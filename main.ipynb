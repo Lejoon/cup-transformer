{
 "cells": [
  {
   "cell_type": "markdown",
   "metadata": {},
   "source": [
    "# Imports"
   ]
  },
  {
   "cell_type": "code",
   "execution_count": 1,
   "metadata": {},
   "outputs": [],
   "source": [
    "import torch\n",
    "from torch import nn\n",
    "from torch.nn import functional as F\n",
    "import numpy as np\n",
    "from matplotlib import pyplot as plt\n",
    "import time\n",
    "import pandas as pd\n",
    "import random\n",
    "from dataclasses import dataclass"
   ]
  },
  {
   "cell_type": "markdown",
   "metadata": {},
   "source": [
    "# Ball Shuffler"
   ]
  },
  {
   "cell_type": "code",
   "execution_count": 35,
   "metadata": {},
   "outputs": [
    {
     "name": "stdout",
     "output_type": "stream",
     "text": [
      "3\n",
      "[(2, 1), (1, 2), (1, 3)]\n",
      "1\n"
     ]
    }
   ],
   "source": [
    "import random\n",
    "\n",
    "def initial_ball_position(n=3):\n",
    "    return random.randint(1, n)\n",
    "\n",
    "initial_position = initial_ball_position()\n",
    "print(initial_position)\n",
    "\n",
    "def generate_shuffle_moves(n=3, num_moves=3):\n",
    "    moves = []\n",
    "    \n",
    "    for _ in range(num_moves):\n",
    "        # Randomly pick two different cups\n",
    "        cup1, cup2 = random.sample(range(1, n + 1), 2)\n",
    "        moves.append((cup1, cup2))\n",
    "    \n",
    "    return moves\n",
    "\n",
    "shuffle_moves = generate_shuffle_moves()\n",
    "print(shuffle_moves)\n",
    "\n",
    "def final_ball_position(initial_position, shuffle_moves):\n",
    "    position = initial_position\n",
    "    for move in shuffle_moves:\n",
    "        # If the ball's current position matches one of the cups in the move, swap it.\n",
    "        if position == move[0]:\n",
    "            position = move[1]\n",
    "        elif position == move[1]:\n",
    "            position = move[0]\n",
    "    \n",
    "    return position\n",
    "\n",
    "final_position = final_ball_position(initial_position, shuffle_moves)\n",
    "print(final_position)"
   ]
  },
  {
   "cell_type": "markdown",
   "metadata": {},
   "source": [
    "# Data generator"
   ]
  },
  {
   "cell_type": "code",
   "execution_count": 42,
   "metadata": {},
   "outputs": [
    {
     "name": "stdout",
     "output_type": "stream",
     "text": [
      "ball in cup 1\n",
      "cup 2 to cup 3\n",
      "cup 3 to cup 1\n",
      "cup 3 to cup 1\n",
      "ball in cup 1\n"
     ]
    },
    {
     "data": {
      "text/plain": [
       "'ball in cup 1\\ncup 2 to cup 3\\ncup 3 to cup 1\\ncup 3 to cup 1'"
      ]
     },
     "execution_count": 42,
     "metadata": {},
     "output_type": "execute_result"
    }
   ],
   "source": [
    "def generate_cup_shuffling_scenario(n=3, num_moves=3):\n",
    "    # Generate initial ball position and shuffle moves\n",
    "    initial_position = initial_ball_position(n)\n",
    "    shuffle_moves = generate_shuffle_moves(n, num_moves)\n",
    "    \n",
    "    # Calculate the final ball position\n",
    "    final_position = final_ball_position(initial_position, shuffle_moves)\n",
    "    \n",
    "    # Construct the input and output strings\n",
    "    input_str = f\"ball in cup {initial_position}\\n\"\n",
    "    input_str += \"\\n\".join([f\"cup {move[0]} to cup {move[1]}\" for move in shuffle_moves])\n",
    "    \n",
    "    output_str = f\"ball in cup {final_position}\"\n",
    "    \n",
    "    return input_str, output_str\n",
    "\n",
    "input_scenario, output_scenario = generate_cup_shuffling_scenario()\n",
    "print(input_scenario)\n",
    "print(output_scenario)\n",
    "input_scenario\n"
   ]
  },
  {
   "cell_type": "markdown",
   "metadata": {},
   "source": [
    "# Model"
   ]
  },
  {
   "cell_type": "code",
   "execution_count": 43,
   "metadata": {},
   "outputs": [],
   "source": [
    "# Tokenizer, we want BOS, EOS tokens\n",
    "tokens = {\n",
    "    1: \"<BOS>\",\n",
    "    2: \"<EOS>\",\n",
    "    3: \"\\n\",\n",
    "    4: \"ball\",\n",
    "    5: \" in\",\n",
    "    6: \" cup\",\n",
    "    7: \" to\",\n",
    "    8: \" 1\",\n",
    "    9: \" 2\",\n",
    "    10: \" 3\",\n",
    "    11: \" 4\",\n",
    "    12: \" 5\",\n",
    "    13: \" 6\",\n",
    "    14: \" 7\",\n",
    "    15: \" 8\",\n",
    "    16: \" 9\"}\n",
    "\n",
    "# Create a config file for the cup shuffling task\n",
    "@dataclass\n",
    "class MASTER_CONFIG:\n",
    "    seed: int = 1337\n",
    "    block_size: int = 12 \n",
    "    batch_size: int = 32\n",
    "    training_split: float = 0.8\n",
    "    d_model: int = 128\n",
    "    \n",
    "    n_cups: int = 3\n",
    "    n_moves: int = 3\n",
    "    tokens: dict = tokens\n",
    "    vocab_size: int = len(tokens)\n",
    "    n_embed: int = 1024\n",
    "    n_heads: int = 8\n",
    "    head_size: int = 128 # n_embed/n_heads?\n",
    "    n_layers: int = 8\n",
    "    dropout: float = 0.1\n",
    "    \n",
    "    \n",
    "    max_iters = 100\n",
    "    eval_interval = 10\n",
    "    learning_rate = 2e-5\n",
    "    \n",
    "    # Use CUDA or MPS if available else CPU\n",
    "    if (torch.cuda.is_available()):\n",
    "        device = torch.device(\"cuda\")\n",
    "        print(\"Using CUDA\")\n",
    "    elif (torch.backends.mps.is_available()):\n",
    "        device = torch.device(\"mps\")\n",
    "        print(\"Using Apple Silicon MPS\")\n",
    "    else:\n",
    "        device = torch.device(\"cpu\")\n",
    "        print(\"Using CPU\")\n",
    "\n",
    "    eval_iters = 50\n",
    "\n",
    "# Method for generating data and labels for batches.\n",
    "def generate_batch(data, split, config=MASTER_CONFIG):\n",
    "    pass\n",
    "\n",
    "# Dummy model for testing, basic feed-forward neural network with embeddings of dimension d_model. \n",
    "class DummyModel(nn.Module):\n",
    "    def __init__(self, config=MASTER_CONFIG):\n",
    "        super().__init__()\n",
    "        self.config = config\n",
    "        self.embedding = nn.Embedding(config.vocab_size, config.d_model)\n",
    "        self.linear = nn.Sequential(\n",
    "            nn.Linear(config.d_model, config.d_model),\n",
    "            nn.ReLU(),\n",
    "            nn.Linear(config.d_model, config.vocab_size)\n",
    "        )\n",
    "        \n",
    "        self.num_parameters = sum(p.numel() for p in self.parameters() if p.requires_grad)\n",
    "        \n",
    "    def forward(self, x, targets=None):\n",
    "        x = self.embedding(x)\n",
    "        x = self.linear(x)\n",
    "        return x\n",
    "\n",
    "# Method for evaluating the loss of the PyTorch model on the validation set without defining the model.\n",
    "@torch.no_grad()\n",
    "def evaluate_model(model, criterion):\n",
    "    out = {}\n",
    "    model.eval()\n",
    "    \n",
    "    for split in [\"train\", \"val\"]:\n",
    "        total_loss = 0\n",
    "        total_tokens = 0\n",
    "        \n",
    "        for batch in generate_batch(split=split):\n",
    "            # Get the inputs and targets\n",
    "            inputs = batch[\"inputs\"]\n",
    "            targets = batch[\"targets\"]\n",
    "            \n",
    "            # Get the model outputs\n",
    "            outputs = model(inputs)\n",
    "            \n",
    "            # Calculate the loss\n",
    "            loss = criterion(outputs, targets)\n",
    "            \n",
    "            # Update the total loss and tokens\n",
    "            total_loss += loss.item()\n",
    "            total_tokens += targets.shape[0] * targets.shape[1]\n",
    "        \n",
    "        # Calculate the average loss\n",
    "        avg_loss = total_loss / total_tokens\n",
    "        \n",
    "        # Store the average loss\n",
    "        out[f\"{split}_loss\"] = avg_loss\n",
    "    "
   ]
  },
  {
   "cell_type": "code",
   "execution_count": null,
   "metadata": {},
   "outputs": [],
   "source": []
  }
 ],
 "metadata": {
  "kernelspec": {
   "display_name": "venv",
   "language": "python",
   "name": "python3"
  },
  "language_info": {
   "codemirror_mode": {
    "name": "ipython",
    "version": 3
   },
   "file_extension": ".py",
   "mimetype": "text/x-python",
   "name": "python",
   "nbconvert_exporter": "python",
   "pygments_lexer": "ipython3",
   "version": "3.9.1"
  },
  "orig_nbformat": 4
 },
 "nbformat": 4,
 "nbformat_minor": 2
}
